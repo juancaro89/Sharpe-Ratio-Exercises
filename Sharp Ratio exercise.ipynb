{
 "cells": [
  {
   "cell_type": "code",
   "execution_count": 1,
   "metadata": {},
   "outputs": [],
   "source": [
    "import pandas as pd\n",
    "import numpy as np\n",
    "import matplotlib.pyplot as plt\n",
    "from pandas_datareader import data, wb\n",
    "\n",
    "import datetime\n",
    "import random\n",
    "\n",
    "%matplotlib inline\n"
   ]
  },
  {
   "cell_type": "code",
   "execution_count": 2,
   "metadata": {},
   "outputs": [],
   "source": [
    "name = ['aapl','fb','pfe']  #list of stock we're interested in\n",
    "start = '2015-01-01'  #starting date\n",
    "end = datetime.datetime.today()\n",
    "\n",
    "stock_prices = data.DataReader(name = name, data_source= 'yahoo', start = start, end = end)"
   ]
  },
  {
   "cell_type": "code",
   "execution_count": 3,
   "metadata": {},
   "outputs": [
    {
     "data": {
      "text/html": [
       "<div>\n",
       "<style scoped>\n",
       "    .dataframe tbody tr th:only-of-type {\n",
       "        vertical-align: middle;\n",
       "    }\n",
       "\n",
       "    .dataframe tbody tr th {\n",
       "        vertical-align: top;\n",
       "    }\n",
       "\n",
       "    .dataframe thead tr th {\n",
       "        text-align: left;\n",
       "    }\n",
       "\n",
       "    .dataframe thead tr:last-of-type th {\n",
       "        text-align: right;\n",
       "    }\n",
       "</style>\n",
       "<table border=\"1\" class=\"dataframe\">\n",
       "  <thead>\n",
       "    <tr>\n",
       "      <th>Attributes</th>\n",
       "      <th colspan=\"3\" halign=\"left\">Adj Close</th>\n",
       "      <th colspan=\"3\" halign=\"left\">Close</th>\n",
       "      <th colspan=\"3\" halign=\"left\">High</th>\n",
       "      <th colspan=\"3\" halign=\"left\">Low</th>\n",
       "      <th colspan=\"3\" halign=\"left\">Open</th>\n",
       "      <th colspan=\"3\" halign=\"left\">Volume</th>\n",
       "    </tr>\n",
       "    <tr>\n",
       "      <th>Symbols</th>\n",
       "      <th>aapl</th>\n",
       "      <th>fb</th>\n",
       "      <th>pfe</th>\n",
       "      <th>aapl</th>\n",
       "      <th>fb</th>\n",
       "      <th>pfe</th>\n",
       "      <th>aapl</th>\n",
       "      <th>fb</th>\n",
       "      <th>pfe</th>\n",
       "      <th>aapl</th>\n",
       "      <th>fb</th>\n",
       "      <th>pfe</th>\n",
       "      <th>aapl</th>\n",
       "      <th>fb</th>\n",
       "      <th>pfe</th>\n",
       "      <th>aapl</th>\n",
       "      <th>fb</th>\n",
       "      <th>pfe</th>\n",
       "    </tr>\n",
       "    <tr>\n",
       "      <th>Date</th>\n",
       "      <th></th>\n",
       "      <th></th>\n",
       "      <th></th>\n",
       "      <th></th>\n",
       "      <th></th>\n",
       "      <th></th>\n",
       "      <th></th>\n",
       "      <th></th>\n",
       "      <th></th>\n",
       "      <th></th>\n",
       "      <th></th>\n",
       "      <th></th>\n",
       "      <th></th>\n",
       "      <th></th>\n",
       "      <th></th>\n",
       "      <th></th>\n",
       "      <th></th>\n",
       "      <th></th>\n",
       "    </tr>\n",
       "  </thead>\n",
       "  <tbody>\n",
       "    <tr>\n",
       "      <th>2021-01-15</th>\n",
       "      <td>127.139999</td>\n",
       "      <td>251.360001</td>\n",
       "      <td>36.700001</td>\n",
       "      <td>127.139999</td>\n",
       "      <td>251.360001</td>\n",
       "      <td>36.700001</td>\n",
       "      <td>130.220001</td>\n",
       "      <td>253.860001</td>\n",
       "      <td>36.779999</td>\n",
       "      <td>127.000000</td>\n",
       "      <td>247.160004</td>\n",
       "      <td>36.400002</td>\n",
       "      <td>128.779999</td>\n",
       "      <td>247.899994</td>\n",
       "      <td>36.680000</td>\n",
       "      <td>111235300.0</td>\n",
       "      <td>24786100.0</td>\n",
       "      <td>33948500.0</td>\n",
       "    </tr>\n",
       "    <tr>\n",
       "      <th>2021-01-19</th>\n",
       "      <td>127.830002</td>\n",
       "      <td>261.100006</td>\n",
       "      <td>36.730000</td>\n",
       "      <td>127.830002</td>\n",
       "      <td>261.100006</td>\n",
       "      <td>36.730000</td>\n",
       "      <td>128.710007</td>\n",
       "      <td>262.200012</td>\n",
       "      <td>37.000000</td>\n",
       "      <td>126.940002</td>\n",
       "      <td>252.720001</td>\n",
       "      <td>36.619999</td>\n",
       "      <td>127.779999</td>\n",
       "      <td>256.899994</td>\n",
       "      <td>36.759998</td>\n",
       "      <td>90757300.0</td>\n",
       "      <td>28028500.0</td>\n",
       "      <td>33451300.0</td>\n",
       "    </tr>\n",
       "    <tr>\n",
       "      <th>2021-01-20</th>\n",
       "      <td>132.029999</td>\n",
       "      <td>267.480011</td>\n",
       "      <td>36.500000</td>\n",
       "      <td>132.029999</td>\n",
       "      <td>267.480011</td>\n",
       "      <td>36.500000</td>\n",
       "      <td>132.490005</td>\n",
       "      <td>270.320007</td>\n",
       "      <td>36.810001</td>\n",
       "      <td>128.550003</td>\n",
       "      <td>263.600006</td>\n",
       "      <td>36.459999</td>\n",
       "      <td>128.660004</td>\n",
       "      <td>268.929993</td>\n",
       "      <td>36.790001</td>\n",
       "      <td>104319500.0</td>\n",
       "      <td>25199900.0</td>\n",
       "      <td>35400100.0</td>\n",
       "    </tr>\n",
       "    <tr>\n",
       "      <th>2021-01-21</th>\n",
       "      <td>136.869995</td>\n",
       "      <td>272.869995</td>\n",
       "      <td>36.480000</td>\n",
       "      <td>136.869995</td>\n",
       "      <td>272.869995</td>\n",
       "      <td>36.480000</td>\n",
       "      <td>139.669998</td>\n",
       "      <td>273.600006</td>\n",
       "      <td>36.590000</td>\n",
       "      <td>133.589996</td>\n",
       "      <td>267.489990</td>\n",
       "      <td>36.150002</td>\n",
       "      <td>133.800003</td>\n",
       "      <td>269.260010</td>\n",
       "      <td>36.389999</td>\n",
       "      <td>120529500.0</td>\n",
       "      <td>20838700.0</td>\n",
       "      <td>33864100.0</td>\n",
       "    </tr>\n",
       "    <tr>\n",
       "      <th>2021-01-22</th>\n",
       "      <td>139.070007</td>\n",
       "      <td>274.500000</td>\n",
       "      <td>36.549999</td>\n",
       "      <td>139.070007</td>\n",
       "      <td>274.500000</td>\n",
       "      <td>36.549999</td>\n",
       "      <td>139.850006</td>\n",
       "      <td>278.470001</td>\n",
       "      <td>36.830002</td>\n",
       "      <td>135.020004</td>\n",
       "      <td>272.000000</td>\n",
       "      <td>36.250000</td>\n",
       "      <td>136.279999</td>\n",
       "      <td>272.010010</td>\n",
       "      <td>36.320000</td>\n",
       "      <td>113907200.0</td>\n",
       "      <td>21910000.0</td>\n",
       "      <td>26243600.0</td>\n",
       "    </tr>\n",
       "  </tbody>\n",
       "</table>\n",
       "</div>"
      ],
      "text/plain": [
       "Attributes   Adj Close                              Close              \\\n",
       "Symbols           aapl          fb        pfe        aapl          fb   \n",
       "Date                                                                    \n",
       "2021-01-15  127.139999  251.360001  36.700001  127.139999  251.360001   \n",
       "2021-01-19  127.830002  261.100006  36.730000  127.830002  261.100006   \n",
       "2021-01-20  132.029999  267.480011  36.500000  132.029999  267.480011   \n",
       "2021-01-21  136.869995  272.869995  36.480000  136.869995  272.869995   \n",
       "2021-01-22  139.070007  274.500000  36.549999  139.070007  274.500000   \n",
       "\n",
       "Attributes                   High                                Low  \\\n",
       "Symbols           pfe        aapl          fb        pfe        aapl   \n",
       "Date                                                                   \n",
       "2021-01-15  36.700001  130.220001  253.860001  36.779999  127.000000   \n",
       "2021-01-19  36.730000  128.710007  262.200012  37.000000  126.940002   \n",
       "2021-01-20  36.500000  132.490005  270.320007  36.810001  128.550003   \n",
       "2021-01-21  36.480000  139.669998  273.600006  36.590000  133.589996   \n",
       "2021-01-22  36.549999  139.850006  278.470001  36.830002  135.020004   \n",
       "\n",
       "Attributes                               Open                         \\\n",
       "Symbols             fb        pfe        aapl          fb        pfe   \n",
       "Date                                                                   \n",
       "2021-01-15  247.160004  36.400002  128.779999  247.899994  36.680000   \n",
       "2021-01-19  252.720001  36.619999  127.779999  256.899994  36.759998   \n",
       "2021-01-20  263.600006  36.459999  128.660004  268.929993  36.790001   \n",
       "2021-01-21  267.489990  36.150002  133.800003  269.260010  36.389999   \n",
       "2021-01-22  272.000000  36.250000  136.279999  272.010010  36.320000   \n",
       "\n",
       "Attributes       Volume                          \n",
       "Symbols            aapl          fb         pfe  \n",
       "Date                                             \n",
       "2021-01-15  111235300.0  24786100.0  33948500.0  \n",
       "2021-01-19   90757300.0  28028500.0  33451300.0  \n",
       "2021-01-20  104319500.0  25199900.0  35400100.0  \n",
       "2021-01-21  120529500.0  20838700.0  33864100.0  \n",
       "2021-01-22  113907200.0  21910000.0  26243600.0  "
      ]
     },
     "execution_count": 3,
     "metadata": {},
     "output_type": "execute_result"
    }
   ],
   "source": [
    "#explore data and see what we wanted\n",
    "stock_prices.head()\n",
    "stock_prices.tail()"
   ]
  },
  {
   "cell_type": "code",
   "execution_count": 4,
   "metadata": {},
   "outputs": [
    {
     "data": {
      "text/html": [
       "<div>\n",
       "<style scoped>\n",
       "    .dataframe tbody tr th:only-of-type {\n",
       "        vertical-align: middle;\n",
       "    }\n",
       "\n",
       "    .dataframe tbody tr th {\n",
       "        vertical-align: top;\n",
       "    }\n",
       "\n",
       "    .dataframe thead th {\n",
       "        text-align: right;\n",
       "    }\n",
       "</style>\n",
       "<table border=\"1\" class=\"dataframe\">\n",
       "  <thead>\n",
       "    <tr style=\"text-align: right;\">\n",
       "      <th>Symbols</th>\n",
       "      <th>aapl</th>\n",
       "      <th>fb</th>\n",
       "      <th>pfe</th>\n",
       "    </tr>\n",
       "    <tr>\n",
       "      <th>Date</th>\n",
       "      <th></th>\n",
       "      <th></th>\n",
       "      <th></th>\n",
       "    </tr>\n",
       "  </thead>\n",
       "  <tbody>\n",
       "    <tr>\n",
       "      <th>2021-01-15</th>\n",
       "      <td>127.139999</td>\n",
       "      <td>251.360001</td>\n",
       "      <td>36.700001</td>\n",
       "    </tr>\n",
       "    <tr>\n",
       "      <th>2021-01-19</th>\n",
       "      <td>127.830002</td>\n",
       "      <td>261.100006</td>\n",
       "      <td>36.730000</td>\n",
       "    </tr>\n",
       "    <tr>\n",
       "      <th>2021-01-20</th>\n",
       "      <td>132.029999</td>\n",
       "      <td>267.480011</td>\n",
       "      <td>36.500000</td>\n",
       "    </tr>\n",
       "    <tr>\n",
       "      <th>2021-01-21</th>\n",
       "      <td>136.869995</td>\n",
       "      <td>272.869995</td>\n",
       "      <td>36.480000</td>\n",
       "    </tr>\n",
       "    <tr>\n",
       "      <th>2021-01-22</th>\n",
       "      <td>139.070007</td>\n",
       "      <td>274.500000</td>\n",
       "      <td>36.549999</td>\n",
       "    </tr>\n",
       "  </tbody>\n",
       "</table>\n",
       "</div>"
      ],
      "text/plain": [
       "Symbols           aapl          fb        pfe\n",
       "Date                                         \n",
       "2021-01-15  127.139999  251.360001  36.700001\n",
       "2021-01-19  127.830002  261.100006  36.730000\n",
       "2021-01-20  132.029999  267.480011  36.500000\n",
       "2021-01-21  136.869995  272.869995  36.480000\n",
       "2021-01-22  139.070007  274.500000  36.549999"
      ]
     },
     "execution_count": 4,
     "metadata": {},
     "output_type": "execute_result"
    }
   ],
   "source": [
    "#extract the adjusted close\n",
    "adj_close = stock_prices['Adj Close']\n",
    "adj_close.head()\n",
    "adj_close.tail()"
   ]
  },
  {
   "cell_type": "code",
   "execution_count": 5,
   "metadata": {},
   "outputs": [
    {
     "data": {
      "text/html": [
       "<div>\n",
       "<style scoped>\n",
       "    .dataframe tbody tr th:only-of-type {\n",
       "        vertical-align: middle;\n",
       "    }\n",
       "\n",
       "    .dataframe tbody tr th {\n",
       "        vertical-align: top;\n",
       "    }\n",
       "\n",
       "    .dataframe thead th {\n",
       "        text-align: right;\n",
       "    }\n",
       "</style>\n",
       "<table border=\"1\" class=\"dataframe\">\n",
       "  <thead>\n",
       "    <tr style=\"text-align: right;\">\n",
       "      <th>Symbols</th>\n",
       "      <th>aapl</th>\n",
       "      <th>fb</th>\n",
       "      <th>pfe</th>\n",
       "    </tr>\n",
       "    <tr>\n",
       "      <th>Date</th>\n",
       "      <th></th>\n",
       "      <th></th>\n",
       "      <th></th>\n",
       "    </tr>\n",
       "  </thead>\n",
       "  <tbody>\n",
       "    <tr>\n",
       "      <th>2021-01-15</th>\n",
       "      <td>-0.013731</td>\n",
       "      <td>0.023286</td>\n",
       "      <td>-0.001361</td>\n",
       "    </tr>\n",
       "    <tr>\n",
       "      <th>2021-01-19</th>\n",
       "      <td>0.005427</td>\n",
       "      <td>0.038749</td>\n",
       "      <td>0.000817</td>\n",
       "    </tr>\n",
       "    <tr>\n",
       "      <th>2021-01-20</th>\n",
       "      <td>0.032856</td>\n",
       "      <td>0.024435</td>\n",
       "      <td>-0.006262</td>\n",
       "    </tr>\n",
       "    <tr>\n",
       "      <th>2021-01-21</th>\n",
       "      <td>0.036658</td>\n",
       "      <td>0.020151</td>\n",
       "      <td>-0.000548</td>\n",
       "    </tr>\n",
       "    <tr>\n",
       "      <th>2021-01-22</th>\n",
       "      <td>0.016074</td>\n",
       "      <td>0.005974</td>\n",
       "      <td>0.001919</td>\n",
       "    </tr>\n",
       "  </tbody>\n",
       "</table>\n",
       "</div>"
      ],
      "text/plain": [
       "Symbols         aapl        fb       pfe\n",
       "Date                                    \n",
       "2021-01-15 -0.013731  0.023286 -0.001361\n",
       "2021-01-19  0.005427  0.038749  0.000817\n",
       "2021-01-20  0.032856  0.024435 -0.006262\n",
       "2021-01-21  0.036658  0.020151 -0.000548\n",
       "2021-01-22  0.016074  0.005974  0.001919"
      ]
     },
     "execution_count": 5,
     "metadata": {},
     "output_type": "execute_result"
    }
   ],
   "source": [
    "returns = adj_close.pct_change().dropna()\n",
    "returns.head()\n",
    "returns.tail()"
   ]
  },
  {
   "cell_type": "code",
   "execution_count": 6,
   "metadata": {},
   "outputs": [
    {
     "data": {
      "image/png": "[encoded data removed]",
      "text/plain": [
       "<Figure size 432x288 with 1 Axes>"
      ]
     },
     "metadata": {
      "needs_background": "light"
     },
     "output_type": "display_data"
    },
    {
     "data": {
      "text/plain": [
       "<function matplotlib.pyplot.show(close=None, block=None)>"
      ]
     },
     "execution_count": 6,
     "metadata": {},
     "output_type": "execute_result"
    },
    {
     "data": {
      "image/png": "[encoded data removed]",
      "text/plain": [
       "<Figure size 432x288 with 1 Axes>"
      ]
     },
     "metadata": {
      "needs_background": "light"
     },
     "output_type": "display_data"
    }
   ],
   "source": [
    "aapl_returns = returns['aapl']\n",
    "plt.hist(aapl_returns)\n",
    "plt.ylabel('price')\n",
    "plt.show()\n",
    "\n",
    "aapl_cummulative_returns = 100 * (aapl_returns +1).cumprod()\n",
    "aapl_cummulative_returns.plot()\n",
    "plt.show"
   ]
  },
  {
   "cell_type": "code",
   "execution_count": 7,
   "metadata": {},
   "outputs": [
    {
     "data": {
      "image/png": "[encoded data removed]",
      "text/plain": [
       "<Figure size 432x288 with 1 Axes>"
      ]
     },
     "metadata": {
      "needs_background": "light"
     },
     "output_type": "display_data"
    },
    {
     "data": {
      "text/plain": [
       "<function matplotlib.pyplot.show(close=None, block=None)>"
      ]
     },
     "execution_count": 7,
     "metadata": {},
     "output_type": "execute_result"
    },
    {
     "data": {
      "image/png": "[encoded data removed]",
      "text/plain": [
       "<Figure size 432x288 with 1 Axes>"
      ]
     },
     "metadata": {
      "needs_background": "light"
     },
     "output_type": "display_data"
    }
   ],
   "source": [
    "fb_returns = returns['fb']\n",
    "plt.hist(aapl_returns)\n",
    "plt.ylabel('price')\n",
    "plt.show()\n",
    "\n",
    "fb_cummulative_returns = 100 * (fb_returns +1).cumprod()\n",
    "fb_cummulative_returns.plot()\n",
    "plt.show"
   ]
  },
  {
   "cell_type": "code",
   "execution_count": 8,
   "metadata": {},
   "outputs": [
    {
     "data": {
      "image/png": "[encoded data removed]",
      "text/plain": [
       "<Figure size 432x288 with 1 Axes>"
      ]
     },
     "metadata": {
      "needs_background": "light"
     },
     "output_type": "display_data"
    },
    {
     "data": {
      "text/plain": [
       "<function matplotlib.pyplot.show(close=None, block=None)>"
      ]
     },
     "execution_count": 8,
     "metadata": {},
     "output_type": "execute_result"
    },
    {
     "data": {
      "image/png": "[encoded data removed]",
      "text/plain": [
       "<Figure size 432x288 with 1 Axes>"
      ]
     },
     "metadata": {
      "needs_background": "light"
     },
     "output_type": "display_data"
    }
   ],
   "source": [
    "pfe_returns = returns['pfe']\n",
    "plt.hist(pfe_returns)\n",
    "plt.ylabel('price')\n",
    "plt.show()\n",
    "\n",
    "pfe_cummulative_returns = 100 * (pfe_returns +1).cumprod()\n",
    "pfe_cummulative_returns.plot()\n",
    "plt.show"
   ]
  },
  {
   "cell_type": "code",
   "execution_count": 9,
   "metadata": {},
   "outputs": [
    {
     "data": {
      "text/html": [
       "<div>\n",
       "<style scoped>\n",
       "    .dataframe tbody tr th:only-of-type {\n",
       "        vertical-align: middle;\n",
       "    }\n",
       "\n",
       "    .dataframe tbody tr th {\n",
       "        vertical-align: top;\n",
       "    }\n",
       "\n",
       "    .dataframe thead th {\n",
       "        text-align: right;\n",
       "    }\n",
       "</style>\n",
       "<table border=\"1\" class=\"dataframe\">\n",
       "  <thead>\n",
       "    <tr style=\"text-align: right;\">\n",
       "      <th>Symbols</th>\n",
       "      <th>aapl</th>\n",
       "      <th>fb</th>\n",
       "      <th>pfe</th>\n",
       "    </tr>\n",
       "    <tr>\n",
       "      <th>Date</th>\n",
       "      <th></th>\n",
       "      <th></th>\n",
       "      <th></th>\n",
       "    </tr>\n",
       "  </thead>\n",
       "  <tbody>\n",
       "    <tr>\n",
       "      <th>2021-01-15</th>\n",
       "      <td>-0.019826</td>\n",
       "      <td>0.033903</td>\n",
       "      <td>-0.001970</td>\n",
       "    </tr>\n",
       "    <tr>\n",
       "      <th>2021-01-19</th>\n",
       "      <td>0.007870</td>\n",
       "      <td>0.056609</td>\n",
       "      <td>0.001184</td>\n",
       "    </tr>\n",
       "    <tr>\n",
       "      <th>2021-01-20</th>\n",
       "      <td>0.047938</td>\n",
       "      <td>0.035585</td>\n",
       "      <td>-0.009057</td>\n",
       "    </tr>\n",
       "    <tr>\n",
       "      <th>2021-01-21</th>\n",
       "      <td>0.053530</td>\n",
       "      <td>0.029318</td>\n",
       "      <td>-0.000794</td>\n",
       "    </tr>\n",
       "    <tr>\n",
       "      <th>2021-01-22</th>\n",
       "      <td>0.023365</td>\n",
       "      <td>0.008664</td>\n",
       "      <td>0.002780</td>\n",
       "    </tr>\n",
       "  </tbody>\n",
       "</table>\n",
       "</div>"
      ],
      "text/plain": [
       "Symbols         aapl        fb       pfe\n",
       "Date                                    \n",
       "2021-01-15 -0.019826  0.033903 -0.001970\n",
       "2021-01-19  0.007870  0.056609  0.001184\n",
       "2021-01-20  0.047938  0.035585 -0.009057\n",
       "2021-01-21  0.053530  0.029318 -0.000794\n",
       "2021-01-22  0.023365  0.008664  0.002780"
      ]
     },
     "execution_count": 9,
     "metadata": {},
     "output_type": "execute_result"
    }
   ],
   "source": [
    "annualized_returns = (1+ returns)**(365/252)-1\n",
    "annualized_returns.head()\n",
    "annualized_returns.tail()\n"
   ]
  },
  {
   "cell_type": "code",
   "execution_count": 10,
   "metadata": {},
   "outputs": [
    {
     "data": {
      "text/html": [
       "<div>\n",
       "<style scoped>\n",
       "    .dataframe tbody tr th:only-of-type {\n",
       "        vertical-align: middle;\n",
       "    }\n",
       "\n",
       "    .dataframe tbody tr th {\n",
       "        vertical-align: top;\n",
       "    }\n",
       "\n",
       "    .dataframe thead th {\n",
       "        text-align: right;\n",
       "    }\n",
       "</style>\n",
       "<table border=\"1\" class=\"dataframe\">\n",
       "  <thead>\n",
       "    <tr style=\"text-align: right;\">\n",
       "      <th>Symbols</th>\n",
       "      <th>aapl</th>\n",
       "      <th>fb</th>\n",
       "      <th>pfe</th>\n",
       "    </tr>\n",
       "  </thead>\n",
       "  <tbody>\n",
       "    <tr>\n",
       "      <th>count</th>\n",
       "      <td>1524.000000</td>\n",
       "      <td>1524.000000</td>\n",
       "      <td>1524.000000</td>\n",
       "    </tr>\n",
       "    <tr>\n",
       "      <th>mean</th>\n",
       "      <td>0.002003</td>\n",
       "      <td>0.001616</td>\n",
       "      <td>0.000606</td>\n",
       "    </tr>\n",
       "    <tr>\n",
       "      <th>std</th>\n",
       "      <td>0.027095</td>\n",
       "      <td>0.029071</td>\n",
       "      <td>0.020017</td>\n",
       "    </tr>\n",
       "    <tr>\n",
       "      <th>min</th>\n",
       "      <td>-0.180825</td>\n",
       "      <td>-0.262517</td>\n",
       "      <td>-0.110058</td>\n",
       "    </tr>\n",
       "    <tr>\n",
       "      <th>25%</th>\n",
       "      <td>-0.009393</td>\n",
       "      <td>-0.010844</td>\n",
       "      <td>-0.008481</td>\n",
       "    </tr>\n",
       "    <tr>\n",
       "      <th>50%</th>\n",
       "      <td>0.001365</td>\n",
       "      <td>0.001581</td>\n",
       "      <td>0.000000</td>\n",
       "    </tr>\n",
       "    <tr>\n",
       "      <th>75%</th>\n",
       "      <td>0.014733</td>\n",
       "      <td>0.015942</td>\n",
       "      <td>0.009420</td>\n",
       "    </tr>\n",
       "    <tr>\n",
       "      <th>max</th>\n",
       "      <td>0.178095</td>\n",
       "      <td>0.232427</td>\n",
       "      <td>0.132354</td>\n",
       "    </tr>\n",
       "  </tbody>\n",
       "</table>\n",
       "</div>"
      ],
      "text/plain": [
       "Symbols         aapl           fb          pfe\n",
       "count    1524.000000  1524.000000  1524.000000\n",
       "mean        0.002003     0.001616     0.000606\n",
       "std         0.027095     0.029071     0.020017\n",
       "min        -0.180825    -0.262517    -0.110058\n",
       "25%        -0.009393    -0.010844    -0.008481\n",
       "50%         0.001365     0.001581     0.000000\n",
       "75%         0.014733     0.015942     0.009420\n",
       "max         0.178095     0.232427     0.132354"
      ]
     },
     "execution_count": 10,
     "metadata": {},
     "output_type": "execute_result"
    }
   ],
   "source": [
    "annualized_returns.describe()"
   ]
  },
  {
   "cell_type": "code",
   "execution_count": 11,
   "metadata": {},
   "outputs": [],
   "source": [
    "aapl_annualized_returns = annualized_returns['aapl']\n",
    "fb_annualized_returns = annualized_returns['fb']\n",
    "pfe_annualized_returns = annualized_returns['pfe']\n"
   ]
  },
  {
   "cell_type": "code",
   "execution_count": 12,
   "metadata": {},
   "outputs": [
    {
     "name": "stdout",
     "output_type": "stream",
     "text": [
      "appl expected return 0.002003315743869438\n",
      "fb expected return 0.001616464937824455\n",
      "pfe expected return 0.0006058215935315604\n"
     ]
    }
   ],
   "source": [
    "mu = annualized_returns.mean()\n",
    "appl_mu = aapl_annualized_returns.mean()\n",
    "fb_mu = fb_annualized_returns.mean()\n",
    "pfe_mu = pfe_annualized_returns.mean()\n",
    "print('appl expected return', appl_mu)\n",
    "print('fb expected return', fb_mu)\n",
    "print('pfe expected return', pfe_mu)"
   ]
  },
  {
   "cell_type": "code",
   "execution_count": 13,
   "metadata": {},
   "outputs": [
    {
     "name": "stdout",
     "output_type": "stream",
     "text": [
      "mu \n",
      " Symbols\n",
      "aapl    0.002003\n",
      "fb      0.001616\n",
      "pfe     0.000606\n",
      "dtype: float64 \n",
      "\n",
      " sigma \n",
      " Symbols\n",
      "aapl    0.428408\n",
      "fb      0.459660\n",
      "pfe     0.316490\n",
      "dtype: float64\n"
     ]
    }
   ],
   "source": [
    "annualized_volatility = annualized_returns.std()*np.sqrt(250)\n",
    "print(\"mu\",\"\\n\",mu,\"\\n\\n\" ,\"sigma\",\"\\n\",  annualized_volatility)"
   ]
  },
  {
   "cell_type": "code",
   "execution_count": 14,
   "metadata": {},
   "outputs": [
    {
     "name": "stdout",
     "output_type": "stream",
     "text": [
      "0  2  4  6  8  "
     ]
    }
   ],
   "source": [
    "for z in range (0,10,2):\n",
    "    print(z, end=\"  \")"
   ]
  },
  {
   "cell_type": "code",
   "execution_count": 15,
   "metadata": {},
   "outputs": [],
   "source": [
    "#Set a seed\n",
    "random.seed(123)\n",
    "\n",
    "#Create an empty dataframe\n",
    "df = pd.DataFrame()\n",
    "\n",
    "#Number of iterations\n",
    "n = 10000\n",
    "\n",
    "#Risk free rate\n",
    "#rfr = 0.0009/252\n",
    "rfr = 0\n",
    "\n",
    "\n",
    "#stocks_sigma\n",
    "\n",
    "for i in range(n):\n",
    "    \n",
    "    weight_a = random.random()   #generate a random weight between 0-1\n",
    "    \n",
    "    df.loc[i, \"weight_aapl\"] = weight_a   #Assign that random weight to the first row (iteration)\n",
    "    \n",
    "    df.loc[i, \"weight_fb\"] = 1-weight_a  #weight of asset b is just 1-Wa\n",
    "    \n",
    "    df.loc[i, \"portfolio_ret\"] = (returns[\"aapl\"]*weight_a + returns['fb']*(1-weight_a)).mean()\n",
    "    \n",
    "    df.loc[i, \"portfolio_vol\"] = (returns[\"aapl\"]*weight_a + returns['fb']*(1-weight_a)).std()\n",
    "    \n",
    "    df.loc[i, \"sharpe_ratio\"] = (df.loc[i, \"portfolio_ret\"] - rfr)/ df.loc[i, 'portfolio_vol']\n"
   ]
  },
  {
   "cell_type": "code",
   "execution_count": 18,
   "metadata": {},
   "outputs": [
    {
     "data": {
      "text/html": [
       "<div>\n",
       "<style scoped>\n",
       "    .dataframe tbody tr th:only-of-type {\n",
       "        vertical-align: middle;\n",
       "    }\n",
       "\n",
       "    .dataframe tbody tr th {\n",
       "        vertical-align: top;\n",
       "    }\n",
       "\n",
       "    .dataframe thead th {\n",
       "        text-align: right;\n",
       "    }\n",
       "</style>\n",
       "<table border=\"1\" class=\"dataframe\">\n",
       "  <thead>\n",
       "    <tr style=\"text-align: right;\">\n",
       "      <th></th>\n",
       "      <th>weight_aapl</th>\n",
       "      <th>weight_fb</th>\n",
       "      <th>portfolio_ret</th>\n",
       "      <th>portfolio_vol</th>\n",
       "      <th>sharpe_ratio</th>\n",
       "    </tr>\n",
       "  </thead>\n",
       "  <tbody>\n",
       "    <tr>\n",
       "      <th>0</th>\n",
       "      <td>0.052364</td>\n",
       "      <td>0.947636</td>\n",
       "      <td>0.001040</td>\n",
       "      <td>0.019623</td>\n",
       "      <td>0.052991</td>\n",
       "    </tr>\n",
       "    <tr>\n",
       "      <th>1</th>\n",
       "      <td>0.087187</td>\n",
       "      <td>0.912813</td>\n",
       "      <td>0.001050</td>\n",
       "      <td>0.019329</td>\n",
       "      <td>0.054300</td>\n",
       "    </tr>\n",
       "    <tr>\n",
       "      <th>2</th>\n",
       "      <td>0.407242</td>\n",
       "      <td>0.592758</td>\n",
       "      <td>0.001139</td>\n",
       "      <td>0.017452</td>\n",
       "      <td>0.065259</td>\n",
       "    </tr>\n",
       "    <tr>\n",
       "      <th>3</th>\n",
       "      <td>0.107700</td>\n",
       "      <td>0.892300</td>\n",
       "      <td>0.001055</td>\n",
       "      <td>0.019163</td>\n",
       "      <td>0.055070</td>\n",
       "    </tr>\n",
       "    <tr>\n",
       "      <th>4</th>\n",
       "      <td>0.901199</td>\n",
       "      <td>0.098801</td>\n",
       "      <td>0.001277</td>\n",
       "      <td>0.018074</td>\n",
       "      <td>0.070644</td>\n",
       "    </tr>\n",
       "  </tbody>\n",
       "</table>\n",
       "</div>"
      ],
      "text/plain": [
       "   weight_aapl  weight_fb  portfolio_ret  portfolio_vol  sharpe_ratio\n",
       "0     0.052364   0.947636       0.001040       0.019623      0.052991\n",
       "1     0.087187   0.912813       0.001050       0.019329      0.054300\n",
       "2     0.407242   0.592758       0.001139       0.017452      0.065259\n",
       "3     0.107700   0.892300       0.001055       0.019163      0.055070\n",
       "4     0.901199   0.098801       0.001277       0.018074      0.070644"
      ]
     },
     "execution_count": 18,
     "metadata": {},
     "output_type": "execute_result"
    }
   ],
   "source": [
    "df.head()\n"
   ]
  },
  {
   "cell_type": "code",
   "execution_count": 21,
   "metadata": {},
   "outputs": [
    {
     "data": {
      "text/plain": [
       "0.07097879134960874"
      ]
     },
     "execution_count": 21,
     "metadata": {},
     "output_type": "execute_result"
    }
   ],
   "source": [
    "df[\"sharpe_ratio\"].max()"
   ]
  },
  {
   "cell_type": "code",
   "execution_count": 24,
   "metadata": {},
   "outputs": [
    {
     "data": {
      "text/plain": [
       "479"
      ]
     },
     "execution_count": 24,
     "metadata": {},
     "output_type": "execute_result"
    }
   ],
   "source": [
    "df[\"sharpe_ratio\"].idxmax()"
   ]
  },
  {
   "cell_type": "code",
   "execution_count": 25,
   "metadata": {},
   "outputs": [
    {
     "data": {
      "text/html": [
       "<div>\n",
       "<style scoped>\n",
       "    .dataframe tbody tr th:only-of-type {\n",
       "        vertical-align: middle;\n",
       "    }\n",
       "\n",
       "    .dataframe tbody tr th {\n",
       "        vertical-align: top;\n",
       "    }\n",
       "\n",
       "    .dataframe thead th {\n",
       "        text-align: right;\n",
       "    }\n",
       "</style>\n",
       "<table border=\"1\" class=\"dataframe\">\n",
       "  <thead>\n",
       "    <tr style=\"text-align: right;\">\n",
       "      <th></th>\n",
       "      <th>weight_aapl</th>\n",
       "      <th>weight_fb</th>\n",
       "      <th>portfolio_ret</th>\n",
       "      <th>portfolio_vol</th>\n",
       "      <th>sharpe_ratio</th>\n",
       "    </tr>\n",
       "  </thead>\n",
       "  <tbody>\n",
       "    <tr>\n",
       "      <th>479</th>\n",
       "      <td>0.800635</td>\n",
       "      <td>0.199365</td>\n",
       "      <td>0.001249</td>\n",
       "      <td>0.017593</td>\n",
       "      <td>0.070979</td>\n",
       "    </tr>\n",
       "  </tbody>\n",
       "</table>\n",
       "</div>"
      ],
      "text/plain": [
       "     weight_aapl  weight_fb  portfolio_ret  portfolio_vol  sharpe_ratio\n",
       "479     0.800635   0.199365       0.001249       0.017593      0.070979"
      ]
     },
     "execution_count": 25,
     "metadata": {},
     "output_type": "execute_result"
    }
   ],
   "source": [
    "max_sharpe_ratio = df.iloc[df[[\"sharpe_ratio\"]].idxmax(),]\n",
    "max_sharpe_ratio"
   ]
  },
  {
   "cell_type": "code",
   "execution_count": 28,
   "metadata": {},
   "outputs": [
    {
     "data": {
      "text/plain": [
       "[<matplotlib.lines.Line2D at 0x231a8e86cd0>]"
      ]
     },
     "execution_count": 28,
     "metadata": {},
     "output_type": "execute_result"
    },
    {
     "data": {
      "image/png": "[encoded data removed]",
      "text/plain": [
       "<Figure size 432x288 with 1 Axes>"
      ]
     },
     "metadata": {
      "needs_background": "light"
     },
     "output_type": "display_data"
    }
   ],
   "source": [
    "ax = df.plot.scatter(x=\"portfolio_vol\", y=\"portfolio_ret\")  #Axis\n",
    "\n",
    "ax.set_xlim(left=0.015) \n",
    "\n",
    "ax.set_ylim(bottom=0.001)\n",
    "\n",
    "#Add a point to the initial axis\n",
    "ax.plot([max_sharpe_ratio[\"portfolio_vol\"]], [max_sharpe_ratio['portfolio_ret']], color='goldenrod', marker=\"o\")"
   ]
  },
  {
   "cell_type": "code",
   "execution_count": 29,
   "metadata": {},
   "outputs": [
    {
     "data": {
      "image/png": "[encoded data removed]",
      "text/plain": [
       "<Figure size 432x288 with 1 Axes>"
      ]
     },
     "metadata": {
      "needs_background": "light"
     },
     "output_type": "display_data"
    }
   ],
   "source": [
    "#Sharpe Ratio vs Weight of apple\n",
    "df.plot.scatter(x=\"weight_aapl\", y=\"sharpe_ratio\")\n",
    "plt.show()"
   ]
  },
  {
   "cell_type": "code",
   "execution_count": 30,
   "metadata": {},
   "outputs": [
    {
     "data": {
      "image/png": "[encoded data removed]",
      "text/plain": [
       "<Figure size 432x288 with 1 Axes>"
      ]
     },
     "metadata": {
      "needs_background": "light"
     },
     "output_type": "display_data"
    }
   ],
   "source": [
    "#Sharpe Ratio vs Weight of FB\n",
    "df.plot.scatter(x=\"weight_fb\", y=\"sharpe_ratio\")\n",
    "plt.show()"
   ]
  },
  {
   "cell_type": "code",
   "execution_count": null,
   "metadata": {},
   "outputs": [],
   "source": []
  }
 ],
 "metadata": {
  "kernelspec": {
   "display_name": "Python 3",
   "language": "python",
   "name": "python3"
  },
  "language_info": {
   "codemirror_mode": {
    "name": "ipython",
    "version": 3
   },
   "file_extension": ".py",
   "mimetype": "text/x-python",
   "name": "python",
   "nbconvert_exporter": "python",
   "pygments_lexer": "ipython3",
   "version": "3.8.5"
  }
 },
 "nbformat": 4,
 "nbformat_minor": 4
}
